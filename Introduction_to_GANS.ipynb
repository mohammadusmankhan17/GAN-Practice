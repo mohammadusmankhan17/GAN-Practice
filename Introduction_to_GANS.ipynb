{
  "nbformat": 4,
  "nbformat_minor": 0,
  "metadata": {
    "colab": {
      "name": "Introduction to GANS.ipynb",
      "provenance": []
    },
    "kernelspec": {
      "name": "python3",
      "display_name": "Python 3"
    },
    "language_info": {
      "name": "python"
    },
    "accelerator": "GPU"
  },
  "cells": [
    {
      "cell_type": "code",
      "metadata": {
        "colab": {
          "base_uri": "https://localhost:8080/"
        },
        "id": "-EGJD5JP0wwA",
        "outputId": "4dcef01d-80ae-48c2-c0f6-57bc43ced346"
      },
      "source": [
        "from google.colab import drive\n",
        "drive.mount('/content/gdrive')"
      ],
      "execution_count": 1,
      "outputs": [
        {
          "output_type": "stream",
          "name": "stdout",
          "text": [
            "Mounted at /content/gdrive\n"
          ]
        }
      ]
    },
    {
      "cell_type": "code",
      "metadata": {
        "colab": {
          "base_uri": "https://localhost:8080/"
        },
        "id": "-yEJVA281Hj7",
        "outputId": "27865a79-4e41-4204-ef4e-8f15b3f8d63f"
      },
      "source": [
        "!ls /content/gdrive/MyDrive"
      ],
      "execution_count": 2,
      "outputs": [
        {
          "output_type": "stream",
          "name": "stdout",
          "text": [
            "'Colab Notebooks'   generated_frog0.png   real_frog0.png\n"
          ]
        }
      ]
    },
    {
      "cell_type": "code",
      "metadata": {
        "colab": {
          "base_uri": "https://localhost:8080/",
          "height": 1000
        },
        "id": "oQjZWhDdzwCK",
        "outputId": "65c52ce3-31ce-4dba-deda-41c9953fd8ec"
      },
      "source": [
        "!pip install tensorflow==2.3"
      ],
      "execution_count": 3,
      "outputs": [
        {
          "output_type": "stream",
          "name": "stdout",
          "text": [
            "Collecting tensorflow==2.3\n",
            "  Downloading tensorflow-2.3.0-cp37-cp37m-manylinux2010_x86_64.whl (320.4 MB)\n",
            "\u001b[K     |████████████████████████████████| 320.4 MB 46 kB/s \n",
            "\u001b[?25hRequirement already satisfied: wheel>=0.26 in /usr/local/lib/python3.7/dist-packages (from tensorflow==2.3) (0.37.0)\n",
            "Requirement already satisfied: absl-py>=0.7.0 in /usr/local/lib/python3.7/dist-packages (from tensorflow==2.3) (0.12.0)\n",
            "Requirement already satisfied: scipy==1.4.1 in /usr/local/lib/python3.7/dist-packages (from tensorflow==2.3) (1.4.1)\n",
            "Collecting gast==0.3.3\n",
            "  Downloading gast-0.3.3-py2.py3-none-any.whl (9.7 kB)\n",
            "Collecting numpy<1.19.0,>=1.16.0\n",
            "  Downloading numpy-1.18.5-cp37-cp37m-manylinux1_x86_64.whl (20.1 MB)\n",
            "\u001b[K     |████████████████████████████████| 20.1 MB 11.9 MB/s \n",
            "\u001b[?25hRequirement already satisfied: termcolor>=1.1.0 in /usr/local/lib/python3.7/dist-packages (from tensorflow==2.3) (1.1.0)\n",
            "Requirement already satisfied: wrapt>=1.11.1 in /usr/local/lib/python3.7/dist-packages (from tensorflow==2.3) (1.12.1)\n",
            "Requirement already satisfied: opt-einsum>=2.3.2 in /usr/local/lib/python3.7/dist-packages (from tensorflow==2.3) (3.3.0)\n",
            "Collecting h5py<2.11.0,>=2.10.0\n",
            "  Downloading h5py-2.10.0-cp37-cp37m-manylinux1_x86_64.whl (2.9 MB)\n",
            "\u001b[K     |████████████████████████████████| 2.9 MB 22.6 MB/s \n",
            "\u001b[?25hRequirement already satisfied: tensorboard<3,>=2.3.0 in /usr/local/lib/python3.7/dist-packages (from tensorflow==2.3) (2.6.0)\n",
            "Requirement already satisfied: google-pasta>=0.1.8 in /usr/local/lib/python3.7/dist-packages (from tensorflow==2.3) (0.2.0)\n",
            "Requirement already satisfied: astunparse==1.6.3 in /usr/local/lib/python3.7/dist-packages (from tensorflow==2.3) (1.6.3)\n",
            "Collecting tensorflow-estimator<2.4.0,>=2.3.0\n",
            "  Downloading tensorflow_estimator-2.3.0-py2.py3-none-any.whl (459 kB)\n",
            "\u001b[K     |████████████████████████████████| 459 kB 47.7 MB/s \n",
            "\u001b[?25hRequirement already satisfied: grpcio>=1.8.6 in /usr/local/lib/python3.7/dist-packages (from tensorflow==2.3) (1.41.0)\n",
            "Requirement already satisfied: keras-preprocessing<1.2,>=1.1.1 in /usr/local/lib/python3.7/dist-packages (from tensorflow==2.3) (1.1.2)\n",
            "Requirement already satisfied: six>=1.12.0 in /usr/local/lib/python3.7/dist-packages (from tensorflow==2.3) (1.15.0)\n",
            "Requirement already satisfied: protobuf>=3.9.2 in /usr/local/lib/python3.7/dist-packages (from tensorflow==2.3) (3.17.3)\n",
            "Requirement already satisfied: setuptools>=41.0.0 in /usr/local/lib/python3.7/dist-packages (from tensorboard<3,>=2.3.0->tensorflow==2.3) (57.4.0)\n",
            "Requirement already satisfied: google-auth<2,>=1.6.3 in /usr/local/lib/python3.7/dist-packages (from tensorboard<3,>=2.3.0->tensorflow==2.3) (1.35.0)\n",
            "Requirement already satisfied: markdown>=2.6.8 in /usr/local/lib/python3.7/dist-packages (from tensorboard<3,>=2.3.0->tensorflow==2.3) (3.3.4)\n",
            "Requirement already satisfied: google-auth-oauthlib<0.5,>=0.4.1 in /usr/local/lib/python3.7/dist-packages (from tensorboard<3,>=2.3.0->tensorflow==2.3) (0.4.6)\n",
            "Requirement already satisfied: tensorboard-data-server<0.7.0,>=0.6.0 in /usr/local/lib/python3.7/dist-packages (from tensorboard<3,>=2.3.0->tensorflow==2.3) (0.6.1)\n",
            "Requirement already satisfied: werkzeug>=0.11.15 in /usr/local/lib/python3.7/dist-packages (from tensorboard<3,>=2.3.0->tensorflow==2.3) (1.0.1)\n",
            "Requirement already satisfied: tensorboard-plugin-wit>=1.6.0 in /usr/local/lib/python3.7/dist-packages (from tensorboard<3,>=2.3.0->tensorflow==2.3) (1.8.0)\n",
            "Requirement already satisfied: requests<3,>=2.21.0 in /usr/local/lib/python3.7/dist-packages (from tensorboard<3,>=2.3.0->tensorflow==2.3) (2.23.0)\n",
            "Requirement already satisfied: rsa<5,>=3.1.4 in /usr/local/lib/python3.7/dist-packages (from google-auth<2,>=1.6.3->tensorboard<3,>=2.3.0->tensorflow==2.3) (4.7.2)\n",
            "Requirement already satisfied: cachetools<5.0,>=2.0.0 in /usr/local/lib/python3.7/dist-packages (from google-auth<2,>=1.6.3->tensorboard<3,>=2.3.0->tensorflow==2.3) (4.2.4)\n",
            "Requirement already satisfied: pyasn1-modules>=0.2.1 in /usr/local/lib/python3.7/dist-packages (from google-auth<2,>=1.6.3->tensorboard<3,>=2.3.0->tensorflow==2.3) (0.2.8)\n",
            "Requirement already satisfied: requests-oauthlib>=0.7.0 in /usr/local/lib/python3.7/dist-packages (from google-auth-oauthlib<0.5,>=0.4.1->tensorboard<3,>=2.3.0->tensorflow==2.3) (1.3.0)\n",
            "Requirement already satisfied: importlib-metadata in /usr/local/lib/python3.7/dist-packages (from markdown>=2.6.8->tensorboard<3,>=2.3.0->tensorflow==2.3) (4.8.1)\n",
            "Requirement already satisfied: pyasn1<0.5.0,>=0.4.6 in /usr/local/lib/python3.7/dist-packages (from pyasn1-modules>=0.2.1->google-auth<2,>=1.6.3->tensorboard<3,>=2.3.0->tensorflow==2.3) (0.4.8)\n",
            "Requirement already satisfied: urllib3!=1.25.0,!=1.25.1,<1.26,>=1.21.1 in /usr/local/lib/python3.7/dist-packages (from requests<3,>=2.21.0->tensorboard<3,>=2.3.0->tensorflow==2.3) (1.24.3)\n",
            "Requirement already satisfied: idna<3,>=2.5 in /usr/local/lib/python3.7/dist-packages (from requests<3,>=2.21.0->tensorboard<3,>=2.3.0->tensorflow==2.3) (2.10)\n",
            "Requirement already satisfied: chardet<4,>=3.0.2 in /usr/local/lib/python3.7/dist-packages (from requests<3,>=2.21.0->tensorboard<3,>=2.3.0->tensorflow==2.3) (3.0.4)\n",
            "Requirement already satisfied: certifi>=2017.4.17 in /usr/local/lib/python3.7/dist-packages (from requests<3,>=2.21.0->tensorboard<3,>=2.3.0->tensorflow==2.3) (2021.5.30)\n",
            "Requirement already satisfied: oauthlib>=3.0.0 in /usr/local/lib/python3.7/dist-packages (from requests-oauthlib>=0.7.0->google-auth-oauthlib<0.5,>=0.4.1->tensorboard<3,>=2.3.0->tensorflow==2.3) (3.1.1)\n",
            "Requirement already satisfied: typing-extensions>=3.6.4 in /usr/local/lib/python3.7/dist-packages (from importlib-metadata->markdown>=2.6.8->tensorboard<3,>=2.3.0->tensorflow==2.3) (3.7.4.3)\n",
            "Requirement already satisfied: zipp>=0.5 in /usr/local/lib/python3.7/dist-packages (from importlib-metadata->markdown>=2.6.8->tensorboard<3,>=2.3.0->tensorflow==2.3) (3.6.0)\n",
            "Installing collected packages: numpy, tensorflow-estimator, h5py, gast, tensorflow\n",
            "  Attempting uninstall: numpy\n",
            "    Found existing installation: numpy 1.19.5\n",
            "    Uninstalling numpy-1.19.5:\n",
            "      Successfully uninstalled numpy-1.19.5\n",
            "  Attempting uninstall: tensorflow-estimator\n",
            "    Found existing installation: tensorflow-estimator 2.6.0\n",
            "    Uninstalling tensorflow-estimator-2.6.0:\n",
            "      Successfully uninstalled tensorflow-estimator-2.6.0\n",
            "  Attempting uninstall: h5py\n",
            "    Found existing installation: h5py 3.1.0\n",
            "    Uninstalling h5py-3.1.0:\n",
            "      Successfully uninstalled h5py-3.1.0\n",
            "  Attempting uninstall: gast\n",
            "    Found existing installation: gast 0.4.0\n",
            "    Uninstalling gast-0.4.0:\n",
            "      Successfully uninstalled gast-0.4.0\n",
            "  Attempting uninstall: tensorflow\n",
            "    Found existing installation: tensorflow 2.6.0\n",
            "    Uninstalling tensorflow-2.6.0:\n",
            "      Successfully uninstalled tensorflow-2.6.0\n",
            "\u001b[31mERROR: pip's dependency resolver does not currently take into account all the packages that are installed. This behaviour is the source of the following dependency conflicts.\n",
            "datascience 0.10.6 requires folium==0.2.1, but you have folium 0.8.3 which is incompatible.\n",
            "albumentations 0.1.12 requires imgaug<0.2.7,>=0.2.5, but you have imgaug 0.2.9 which is incompatible.\u001b[0m\n",
            "Successfully installed gast-0.3.3 h5py-2.10.0 numpy-1.18.5 tensorflow-2.3.0 tensorflow-estimator-2.3.0\n"
          ]
        },
        {
          "output_type": "display_data",
          "data": {
            "application/vnd.colab-display-data+json": {
              "pip_warning": {
                "packages": [
                  "numpy"
                ]
              }
            }
          },
          "metadata": {}
        }
      ]
    },
    {
      "cell_type": "code",
      "metadata": {
        "colab": {
          "base_uri": "https://localhost:8080/",
          "height": 35
        },
        "id": "9tw46PYy1eej",
        "outputId": "3f13fb96-f71c-4d69-bdbf-c9b422281091"
      },
      "source": [
        "import tensorflow.keras\n",
        "tensorflow.keras.__version__"
      ],
      "execution_count": 4,
      "outputs": [
        {
          "output_type": "execute_result",
          "data": {
            "application/vnd.google.colaboratory.intrinsic+json": {
              "type": "string"
            },
            "text/plain": [
              "'2.4.0'"
            ]
          },
          "metadata": {},
          "execution_count": 4
        }
      ]
    },
    {
      "cell_type": "code",
      "metadata": {
        "colab": {
          "base_uri": "https://localhost:8080/"
        },
        "id": "T19ymsIm3c0M",
        "outputId": "563ce4ee-0ae6-40d1-e32d-3e787bebd44f"
      },
      "source": [
        "import tensorflow.keras\n",
        "from tensorflow.keras import layers\n",
        "import numpy as np\n",
        "\n",
        "latent_dim = 32\n",
        "height = 32\n",
        "width = 32\n",
        "channels = 3\n",
        "\n",
        "generator_input = tensorflow.keras.Input(shape=(latent_dim,))\n",
        "\n",
        "# First, transform the input into a 16x16 128-channels feature map\n",
        "x = layers.Dense(128 * 16 * 16)(generator_input)\n",
        "x = layers.LeakyReLU()(x)\n",
        "x = layers.Reshape((16, 16, 128))(x)\n",
        "\n",
        "# Then, add a convolution layer\n",
        "x = layers.Conv2D(256, 5, padding='same')(x)\n",
        "x = layers.LeakyReLU()(x)\n",
        "\n",
        "# Upsample to 32x32\n",
        "x = layers.Conv2DTranspose(256, 4, strides=2, padding='same')(x)\n",
        "x = layers.LeakyReLU()(x)\n",
        "\n",
        "# Few more conv layers\n",
        "x = layers.Conv2D(256, 5, padding='same')(x)\n",
        "x = layers.LeakyReLU()(x)\n",
        "x = layers.Conv2D(256, 5, padding='same')(x)\n",
        "x = layers.LeakyReLU()(x)\n",
        "\n",
        "# Produce a 32x32 1-channel feature map\n",
        "x = layers.Conv2D(channels, 7, activation='tanh', padding='same')(x)\n",
        "generator = tensorflow.keras.models.Model(generator_input, x)\n",
        "generator.summary()"
      ],
      "execution_count": 5,
      "outputs": [
        {
          "output_type": "stream",
          "name": "stdout",
          "text": [
            "Model: \"functional_1\"\n",
            "_________________________________________________________________\n",
            "Layer (type)                 Output Shape              Param #   \n",
            "=================================================================\n",
            "input_1 (InputLayer)         [(None, 32)]              0         \n",
            "_________________________________________________________________\n",
            "dense (Dense)                (None, 32768)             1081344   \n",
            "_________________________________________________________________\n",
            "leaky_re_lu (LeakyReLU)      (None, 32768)             0         \n",
            "_________________________________________________________________\n",
            "reshape (Reshape)            (None, 16, 16, 128)       0         \n",
            "_________________________________________________________________\n",
            "conv2d (Conv2D)              (None, 16, 16, 256)       819456    \n",
            "_________________________________________________________________\n",
            "leaky_re_lu_1 (LeakyReLU)    (None, 16, 16, 256)       0         \n",
            "_________________________________________________________________\n",
            "conv2d_transpose (Conv2DTran (None, 32, 32, 256)       1048832   \n",
            "_________________________________________________________________\n",
            "leaky_re_lu_2 (LeakyReLU)    (None, 32, 32, 256)       0         \n",
            "_________________________________________________________________\n",
            "conv2d_1 (Conv2D)            (None, 32, 32, 256)       1638656   \n",
            "_________________________________________________________________\n",
            "leaky_re_lu_3 (LeakyReLU)    (None, 32, 32, 256)       0         \n",
            "_________________________________________________________________\n",
            "conv2d_2 (Conv2D)            (None, 32, 32, 256)       1638656   \n",
            "_________________________________________________________________\n",
            "leaky_re_lu_4 (LeakyReLU)    (None, 32, 32, 256)       0         \n",
            "_________________________________________________________________\n",
            "conv2d_3 (Conv2D)            (None, 32, 32, 3)         37635     \n",
            "=================================================================\n",
            "Total params: 6,264,579\n",
            "Trainable params: 6,264,579\n",
            "Non-trainable params: 0\n",
            "_________________________________________________________________\n"
          ]
        }
      ]
    },
    {
      "cell_type": "code",
      "metadata": {
        "colab": {
          "base_uri": "https://localhost:8080/"
        },
        "id": "rxDvKDfk3kB7",
        "outputId": "c5b13c76-b65a-47e2-b82b-f5c7b89fef4a"
      },
      "source": [
        "discriminator_input = layers.Input(shape=(height, width, channels))\n",
        "x = layers.Conv2D(128, 3)(discriminator_input)\n",
        "x = layers.LeakyReLU()(x)\n",
        "x = layers.Conv2D(128, 4, strides=2)(x)\n",
        "x = layers.LeakyReLU()(x)\n",
        "x = layers.Conv2D(128, 4, strides=2)(x)\n",
        "x = layers.LeakyReLU()(x)\n",
        "x = layers.Conv2D(128, 4, strides=2)(x)\n",
        "x = layers.LeakyReLU()(x)\n",
        "x = layers.Flatten()(x)\n",
        "\n",
        "# One dropout layer - important trick!\n",
        "x = layers.Dropout(0.4)(x)\n",
        "\n",
        "# Classification layer\n",
        "x = layers.Dense(1, activation='sigmoid')(x)\n",
        "\n",
        "discriminator = tensorflow.keras.models.Model(discriminator_input, x)\n",
        "discriminator.summary()\n",
        "\n",
        "# To stabilize training, we use learning rate decay\n",
        "# and gradient clipping (by value) in the optimizer.\n",
        "discriminator_optimizer = tensorflow.keras.optimizers.RMSprop(lr=0.0008, clipvalue=1.0, decay=1e-8)\n",
        "discriminator.compile(optimizer=discriminator_optimizer, loss='binary_crossentropy')"
      ],
      "execution_count": 6,
      "outputs": [
        {
          "output_type": "stream",
          "name": "stdout",
          "text": [
            "Model: \"functional_3\"\n",
            "_________________________________________________________________\n",
            "Layer (type)                 Output Shape              Param #   \n",
            "=================================================================\n",
            "input_2 (InputLayer)         [(None, 32, 32, 3)]       0         \n",
            "_________________________________________________________________\n",
            "conv2d_4 (Conv2D)            (None, 30, 30, 128)       3584      \n",
            "_________________________________________________________________\n",
            "leaky_re_lu_5 (LeakyReLU)    (None, 30, 30, 128)       0         \n",
            "_________________________________________________________________\n",
            "conv2d_5 (Conv2D)            (None, 14, 14, 128)       262272    \n",
            "_________________________________________________________________\n",
            "leaky_re_lu_6 (LeakyReLU)    (None, 14, 14, 128)       0         \n",
            "_________________________________________________________________\n",
            "conv2d_6 (Conv2D)            (None, 6, 6, 128)         262272    \n",
            "_________________________________________________________________\n",
            "leaky_re_lu_7 (LeakyReLU)    (None, 6, 6, 128)         0         \n",
            "_________________________________________________________________\n",
            "conv2d_7 (Conv2D)            (None, 2, 2, 128)         262272    \n",
            "_________________________________________________________________\n",
            "leaky_re_lu_8 (LeakyReLU)    (None, 2, 2, 128)         0         \n",
            "_________________________________________________________________\n",
            "flatten (Flatten)            (None, 512)               0         \n",
            "_________________________________________________________________\n",
            "dropout (Dropout)            (None, 512)               0         \n",
            "_________________________________________________________________\n",
            "dense_1 (Dense)              (None, 1)                 513       \n",
            "=================================================================\n",
            "Total params: 790,913\n",
            "Trainable params: 790,913\n",
            "Non-trainable params: 0\n",
            "_________________________________________________________________\n"
          ]
        }
      ]
    },
    {
      "cell_type": "code",
      "metadata": {
        "id": "85CX5gV53yPf"
      },
      "source": [
        "# Set discriminator weights to non-trainable\n",
        "# (will only apply to the `gan` model)\n",
        "discriminator.trainable = False\n",
        "\n",
        "gan_input = tensorflow.keras.Input(shape=(latent_dim,))\n",
        "gan_output = discriminator(generator(gan_input))\n",
        "gan = tensorflow.keras.models.Model(gan_input, gan_output)\n",
        "\n",
        "gan_optimizer = tensorflow.keras.optimizers.RMSprop(lr=0.0004, clipvalue=1.0, decay=1e-8)\n",
        "gan.compile(optimizer=gan_optimizer, loss='binary_crossentropy')"
      ],
      "execution_count": 7,
      "outputs": []
    },
    {
      "cell_type": "code",
      "metadata": {
        "colab": {
          "base_uri": "https://localhost:8080/"
        },
        "id": "1wF0HfeX37g1",
        "outputId": "ca36a143-9b5a-49b1-a4c2-d0dab9ed9565"
      },
      "source": [
        "import os\n",
        "from tensorflow.keras.preprocessing import image\n",
        "\n",
        "# Load CIFAR10 data\n",
        "(x_train, y_train), (_, _) = tensorflow.keras.datasets.cifar10.load_data()\n",
        "\n",
        "# Select frog images (class 6)\n",
        "x_train = x_train[y_train.flatten() == 6]\n",
        "\n",
        "# Normalize data\n",
        "x_train = x_train.reshape(\n",
        "    (x_train.shape[0],) + (height, width, channels)).astype('float32') / 255.\n",
        "\n",
        "iterations = 10000\n",
        "batch_size = 20\n",
        "save_dir = '/content/gdrive/MyDrive'\n",
        "\n",
        "# Start training loop\n",
        "start = 0\n",
        "for step in range(iterations):\n",
        "    # Sample random points in the latent space\n",
        "    random_latent_vectors = np.random.normal(size=(batch_size, latent_dim))\n",
        "\n",
        "    # Decode them to fake images\n",
        "    generated_images = generator.predict(random_latent_vectors)\n",
        "\n",
        "    # Combine them with real images\n",
        "    stop = start + batch_size\n",
        "    real_images = x_train[start: stop]\n",
        "    combined_images = np.concatenate([generated_images, real_images])\n",
        "\n",
        "    # Assemble labels discriminating real from fake images\n",
        "    labels = np.concatenate([np.ones((batch_size, 1)),\n",
        "                             np.zeros((batch_size, 1))])\n",
        "    # Add random noise to the labels - important trick!\n",
        "    labels += 0.05 * np.random.random(labels.shape)\n",
        "\n",
        "    # Train the discriminator\n",
        "    d_loss = discriminator.train_on_batch(combined_images, labels)\n",
        "\n",
        "    # sample random points in the latent space\n",
        "    random_latent_vectors = np.random.normal(size=(batch_size, latent_dim))\n",
        "\n",
        "    # Assemble labels that say \"all real images\"\n",
        "    misleading_targets = np.zeros((batch_size, 1))\n",
        "\n",
        "    # Train the generator (via the gan model,\n",
        "    # where the discriminator weights are frozen)\n",
        "    a_loss = gan.train_on_batch(random_latent_vectors, misleading_targets)\n",
        "    \n",
        "    start += batch_size\n",
        "    if start > len(x_train) - batch_size:\n",
        "      start = 0\n",
        "\n",
        "    # Occasionally save / plot\n",
        "    if step % 100 == 0:\n",
        "        # Save model weights\n",
        "        gan.save_weights('gan.h5')\n",
        "\n",
        "        # Print metrics\n",
        "        print('discriminator loss at step %s: %s' % (step, d_loss))\n",
        "        print('adversarial loss at step %s: %s' % (step, a_loss))\n",
        "\n",
        "        # Save one generated image\n",
        "        img = image.array_to_img(generated_images[0] * 255., scale=False)\n",
        "        img.save(os.path.join(save_dir, 'generated_frog' + str(step) + '.png'))\n",
        "\n",
        "        # Save one real image, for comparison\n",
        "        img = image.array_to_img(real_images[0] * 255., scale=False)\n",
        "        img.save(os.path.join(save_dir, 'real_frog' + str(step) + '.png'))"
      ],
      "execution_count": 8,
      "outputs": [
        {
          "output_type": "stream",
          "name": "stdout",
          "text": [
            "Downloading data from https://www.cs.toronto.edu/~kriz/cifar-10-python.tar.gz\n",
            "170500096/170498071 [==============================] - 2s 0us/step\n",
            "discriminator loss at step 0: 0.6859573125839233\n",
            "adversarial loss at step 0: 0.6592210531234741\n",
            "discriminator loss at step 100: 0.6949484944343567\n",
            "adversarial loss at step 100: 0.7186955213546753\n",
            "discriminator loss at step 200: 0.6895224452018738\n",
            "adversarial loss at step 200: 0.9736179113388062\n",
            "discriminator loss at step 300: 0.6333542466163635\n",
            "adversarial loss at step 300: 1.060855746269226\n",
            "discriminator loss at step 400: 0.6957051753997803\n",
            "adversarial loss at step 400: 0.7394369840621948\n",
            "discriminator loss at step 500: 0.6928126215934753\n",
            "adversarial loss at step 500: 0.7304703593254089\n",
            "discriminator loss at step 600: 0.6921943426132202\n",
            "adversarial loss at step 600: 0.7444532513618469\n",
            "discriminator loss at step 700: 0.6986095309257507\n",
            "adversarial loss at step 700: 0.7485930323600769\n",
            "discriminator loss at step 800: 0.6796945929527283\n",
            "adversarial loss at step 800: 0.7680336236953735\n",
            "discriminator loss at step 900: 0.6999786496162415\n",
            "adversarial loss at step 900: 0.7530298829078674\n",
            "discriminator loss at step 1000: 0.6936842799186707\n",
            "adversarial loss at step 1000: 0.7359226942062378\n",
            "discriminator loss at step 1100: 0.6970720291137695\n",
            "adversarial loss at step 1100: 0.7595357894897461\n",
            "discriminator loss at step 1200: 0.6914873123168945\n",
            "adversarial loss at step 1200: 0.7475883364677429\n",
            "discriminator loss at step 1300: 0.7008601427078247\n",
            "adversarial loss at step 1300: 0.7307869791984558\n",
            "discriminator loss at step 1400: 0.6846383810043335\n",
            "adversarial loss at step 1400: 0.7289007902145386\n",
            "discriminator loss at step 1500: 0.6942071914672852\n",
            "adversarial loss at step 1500: 0.7589999437332153\n",
            "discriminator loss at step 1600: 0.6952595710754395\n",
            "adversarial loss at step 1600: 0.7373257279396057\n",
            "discriminator loss at step 1700: 0.6998346447944641\n",
            "adversarial loss at step 1700: 0.7777286767959595\n",
            "discriminator loss at step 1800: 0.6961224675178528\n",
            "adversarial loss at step 1800: 0.7678216695785522\n",
            "discriminator loss at step 1900: 0.6978570818901062\n",
            "adversarial loss at step 1900: 0.7475749850273132\n",
            "discriminator loss at step 2000: 0.6961625814437866\n",
            "adversarial loss at step 2000: 0.7606066465377808\n",
            "discriminator loss at step 2100: 0.8850468397140503\n",
            "adversarial loss at step 2100: 0.8183841705322266\n",
            "discriminator loss at step 2200: 0.6854396462440491\n",
            "adversarial loss at step 2200: 0.7608939409255981\n",
            "discriminator loss at step 2300: 0.6871678233146667\n",
            "adversarial loss at step 2300: 0.6655465364456177\n",
            "discriminator loss at step 2400: 0.7085543870925903\n",
            "adversarial loss at step 2400: 0.7570773363113403\n",
            "discriminator loss at step 2500: 0.6914540529251099\n",
            "adversarial loss at step 2500: 0.754142165184021\n",
            "discriminator loss at step 2600: 0.6948686838150024\n",
            "adversarial loss at step 2600: 0.7431150674819946\n",
            "discriminator loss at step 2700: 0.7125979661941528\n",
            "adversarial loss at step 2700: 0.8006902933120728\n",
            "discriminator loss at step 2800: 0.6778439283370972\n",
            "adversarial loss at step 2800: 0.7475473284721375\n",
            "discriminator loss at step 2900: 0.6917327642440796\n",
            "adversarial loss at step 2900: 0.7444315552711487\n",
            "discriminator loss at step 3000: 0.6923545002937317\n",
            "adversarial loss at step 3000: 0.775849461555481\n",
            "discriminator loss at step 3100: 0.6869358420372009\n",
            "adversarial loss at step 3100: 0.7884553670883179\n",
            "discriminator loss at step 3200: 0.757231593132019\n",
            "adversarial loss at step 3200: 0.7433093190193176\n",
            "discriminator loss at step 3300: 0.6802833080291748\n",
            "adversarial loss at step 3300: 0.7316271662712097\n",
            "discriminator loss at step 3400: 0.6913291811943054\n",
            "adversarial loss at step 3400: 0.7423151135444641\n",
            "discriminator loss at step 3500: 0.6912174820899963\n",
            "adversarial loss at step 3500: 0.7620128393173218\n",
            "discriminator loss at step 3600: 0.6975895166397095\n",
            "adversarial loss at step 3600: 0.8061231374740601\n",
            "discriminator loss at step 3700: 0.6933234930038452\n",
            "adversarial loss at step 3700: 0.7604655027389526\n",
            "discriminator loss at step 3800: 0.712409496307373\n",
            "adversarial loss at step 3800: 0.7457501292228699\n",
            "discriminator loss at step 3900: 0.699002206325531\n",
            "adversarial loss at step 3900: 0.7611525058746338\n",
            "discriminator loss at step 4000: 0.688380241394043\n",
            "adversarial loss at step 4000: 0.7715968489646912\n",
            "discriminator loss at step 4100: 0.6896681785583496\n",
            "adversarial loss at step 4100: 0.74964839220047\n",
            "discriminator loss at step 4200: 0.6868242025375366\n",
            "adversarial loss at step 4200: 0.9027309417724609\n",
            "discriminator loss at step 4300: 0.696173369884491\n",
            "adversarial loss at step 4300: 0.7069435119628906\n",
            "discriminator loss at step 4400: 0.6993182897567749\n",
            "adversarial loss at step 4400: 0.7822757959365845\n",
            "discriminator loss at step 4500: 0.7075901031494141\n",
            "adversarial loss at step 4500: 0.7942377328872681\n",
            "discriminator loss at step 4600: 0.6832224130630493\n",
            "adversarial loss at step 4600: 0.7384805083274841\n",
            "discriminator loss at step 4700: 0.7191861867904663\n",
            "adversarial loss at step 4700: 0.7433687448501587\n",
            "discriminator loss at step 4800: 0.6988207697868347\n",
            "adversarial loss at step 4800: 0.731411337852478\n",
            "discriminator loss at step 4900: 0.6929088830947876\n",
            "adversarial loss at step 4900: 0.7982759475708008\n",
            "discriminator loss at step 5000: 0.6884506344795227\n",
            "adversarial loss at step 5000: 0.7314403057098389\n",
            "discriminator loss at step 5100: 0.7076237797737122\n",
            "adversarial loss at step 5100: 0.7824878692626953\n",
            "discriminator loss at step 5200: 0.6884891390800476\n",
            "adversarial loss at step 5200: 0.7637042999267578\n",
            "discriminator loss at step 5300: 0.7019294500350952\n",
            "adversarial loss at step 5300: 0.7820855379104614\n",
            "discriminator loss at step 5400: 0.6839183568954468\n",
            "adversarial loss at step 5400: 0.7593947649002075\n",
            "discriminator loss at step 5500: 0.6895520091056824\n",
            "adversarial loss at step 5500: 0.7232815623283386\n",
            "discriminator loss at step 5600: 0.6996853947639465\n",
            "adversarial loss at step 5600: 0.7337680459022522\n",
            "discriminator loss at step 5700: 0.7065080404281616\n",
            "adversarial loss at step 5700: 0.8103065490722656\n",
            "discriminator loss at step 5800: 0.6936671733856201\n",
            "adversarial loss at step 5800: 0.7490723729133606\n",
            "discriminator loss at step 5900: 0.6936932802200317\n",
            "adversarial loss at step 5900: 0.757274329662323\n",
            "discriminator loss at step 6000: 0.6905006170272827\n",
            "adversarial loss at step 6000: 0.7847074270248413\n",
            "discriminator loss at step 6100: 0.6866788864135742\n",
            "adversarial loss at step 6100: 0.6812950372695923\n",
            "discriminator loss at step 6200: 0.6946653723716736\n",
            "adversarial loss at step 6200: 0.7383450269699097\n",
            "discriminator loss at step 6300: 0.687171995639801\n",
            "adversarial loss at step 6300: 0.7519998550415039\n",
            "discriminator loss at step 6400: 0.6968938112258911\n",
            "adversarial loss at step 6400: 0.7448862195014954\n",
            "discriminator loss at step 6500: 0.6789158582687378\n",
            "adversarial loss at step 6500: 0.7471141815185547\n",
            "discriminator loss at step 6600: 0.6897070407867432\n",
            "adversarial loss at step 6600: 0.7406758069992065\n",
            "discriminator loss at step 6700: 0.6867012977600098\n",
            "adversarial loss at step 6700: 0.8278501629829407\n",
            "discriminator loss at step 6800: 0.685808539390564\n",
            "adversarial loss at step 6800: 0.9195495843887329\n",
            "discriminator loss at step 6900: 0.6814709901809692\n",
            "adversarial loss at step 6900: 0.7862184643745422\n",
            "discriminator loss at step 7000: 0.6899880766868591\n",
            "adversarial loss at step 7000: 0.7919785380363464\n",
            "discriminator loss at step 7100: 0.6925438642501831\n",
            "adversarial loss at step 7100: 0.7517038583755493\n",
            "discriminator loss at step 7200: 0.7076600790023804\n",
            "adversarial loss at step 7200: 0.7794946432113647\n",
            "discriminator loss at step 7300: 0.6575133204460144\n",
            "adversarial loss at step 7300: 0.8292754888534546\n",
            "discriminator loss at step 7400: 0.6856173276901245\n",
            "adversarial loss at step 7400: 0.7941535711288452\n",
            "discriminator loss at step 7500: 0.6576828360557556\n",
            "adversarial loss at step 7500: 0.7620758414268494\n",
            "discriminator loss at step 7600: 0.6936545372009277\n",
            "adversarial loss at step 7600: 0.6593036651611328\n",
            "discriminator loss at step 7700: 0.6949061155319214\n",
            "adversarial loss at step 7700: 0.8109691739082336\n",
            "discriminator loss at step 7800: 0.6868804097175598\n",
            "adversarial loss at step 7800: 0.7438036203384399\n",
            "discriminator loss at step 7900: 0.7641108632087708\n",
            "adversarial loss at step 7900: 0.9177157282829285\n",
            "discriminator loss at step 8000: 0.7183006405830383\n",
            "adversarial loss at step 8000: 1.0397759675979614\n",
            "discriminator loss at step 8100: 0.6765642166137695\n",
            "adversarial loss at step 8100: 0.8147039413452148\n",
            "discriminator loss at step 8200: 0.7204370498657227\n",
            "adversarial loss at step 8200: 0.809831976890564\n",
            "discriminator loss at step 8300: 0.6810223460197449\n",
            "adversarial loss at step 8300: 0.8127226829528809\n",
            "discriminator loss at step 8400: 0.6682305335998535\n",
            "adversarial loss at step 8400: 1.1776514053344727\n",
            "discriminator loss at step 8500: 0.6770536303520203\n",
            "adversarial loss at step 8500: 0.8090187311172485\n",
            "discriminator loss at step 8600: 0.6984860897064209\n",
            "adversarial loss at step 8600: 0.8320258855819702\n",
            "discriminator loss at step 8700: 0.7128881216049194\n",
            "adversarial loss at step 8700: 0.7776433229446411\n",
            "discriminator loss at step 8800: 0.6900456547737122\n",
            "adversarial loss at step 8800: 0.7500913143157959\n",
            "discriminator loss at step 8900: 0.7377707958221436\n",
            "adversarial loss at step 8900: 0.9389726519584656\n",
            "discriminator loss at step 9000: 0.6801899671554565\n",
            "adversarial loss at step 9000: 0.7938739061355591\n",
            "discriminator loss at step 9100: 0.682685375213623\n",
            "adversarial loss at step 9100: 0.7647247314453125\n",
            "discriminator loss at step 9200: 0.6807877421379089\n",
            "adversarial loss at step 9200: 0.9199922680854797\n",
            "discriminator loss at step 9300: 0.7587102651596069\n",
            "adversarial loss at step 9300: 0.9431538581848145\n",
            "discriminator loss at step 9400: 0.6626703143119812\n",
            "adversarial loss at step 9400: 0.7745594382286072\n",
            "discriminator loss at step 9500: 0.6954052448272705\n",
            "adversarial loss at step 9500: 0.8633950352668762\n",
            "discriminator loss at step 9600: 0.7676600217819214\n",
            "adversarial loss at step 9600: 1.1219522953033447\n",
            "discriminator loss at step 9700: 0.7081018686294556\n",
            "adversarial loss at step 9700: 0.8133835792541504\n",
            "discriminator loss at step 9800: 0.6327345967292786\n",
            "adversarial loss at step 9800: 0.8617531657218933\n",
            "discriminator loss at step 9900: 0.6935762166976929\n",
            "adversarial loss at step 9900: 0.7764922380447388\n"
          ]
        }
      ]
    },
    {
      "cell_type": "code",
      "metadata": {
        "colab": {
          "base_uri": "https://localhost:8080/",
          "height": 1000
        },
        "id": "HmfuL-Yo4O6l",
        "outputId": "5e11ecdb-08c3-424e-a3d6-2bb7c50cd1c0"
      },
      "source": [
        "import matplotlib.pyplot as plt\n",
        "\n",
        "# Sample random points in the latent space\n",
        "random_latent_vectors = np.random.normal(size=(10, latent_dim))\n",
        "\n",
        "# Decode them to fake images\n",
        "generated_images = generator.predict(random_latent_vectors)\n",
        "\n",
        "for i in range(generated_images.shape[0]):\n",
        "    img = image.array_to_img(generated_images[i] * 255., scale=False)\n",
        "    plt.figure()\n",
        "    plt.imshow(img)\n",
        "    \n",
        "plt.show()"
      ],
      "execution_count": 9,
      "outputs": [
        {
          "output_type": "display_data",
          "data": {
            "image/png": "[encoded data removed]",
            "text/plain": [
              "<Figure size 432x288 with 1 Axes>"
            ]
          },
          "metadata": {
            "needs_background": "light"
          }
        },
        {
          "output_type": "display_data",
          "data": {
            "image/png": "[encoded data removed]",
            "text/plain": [
              "<Figure size 432x288 with 1 Axes>"
            ]
          },
          "metadata": {
            "needs_background": "light"
          }
        },
        {
          "output_type": "display_data",
          "data": {
            "image/png": "[encoded data removed]",
            "text/plain": [
              "<Figure size 432x288 with 1 Axes>"
            ]
          },
          "metadata": {
            "needs_background": "light"
          }
        },
        {
          "output_type": "display_data",
          "data": {
            "image/png": "[encoded data removed]",
            "text/plain": [
              "<Figure size 432x288 with 1 Axes>"
            ]
          },
          "metadata": {
            "needs_background": "light"
          }
        },
        {
          "output_type": "display_data",
          "data": {
            "image/png": "[encoded data removed]",
            "text/plain": [
              "<Figure size 432x288 with 1 Axes>"
            ]
          },
          "metadata": {
            "needs_background": "light"
          }
        },
        {
          "output_type": "display_data",
          "data": {
            "image/png": "[encoded data removed]",
            "text/plain": [
              "<Figure size 432x288 with 1 Axes>"
            ]
          },
          "metadata": {
            "needs_background": "light"
          }
        },
        {
          "output_type": "display_data",
          "data": {
            "image/png": "[encoded data removed]",
            "text/plain": [
              "<Figure size 432x288 with 1 Axes>"
            ]
          },
          "metadata": {
            "needs_background": "light"
          }
        },
        {
          "output_type": "display_data",
          "data": {
            "image/png": "[encoded data removed]",
            "text/plain": [
              "<Figure size 432x288 with 1 Axes>"
            ]
          },
          "metadata": {
            "needs_background": "light"
          }
        },
        {
          "output_type": "display_data",
          "data": {
            "image/png": "[encoded data removed]",
            "text/plain": [
              "<Figure size 432x288 with 1 Axes>"
            ]
          },
          "metadata": {
            "needs_background": "light"
          }
        },
        {
          "output_type": "display_data",
          "data": {
            "image/png": "[encoded data removed]",
            "text/plain": [
              "<Figure size 432x288 with 1 Axes>"
            ]
          },
          "metadata": {
            "needs_background": "light"
          }
        }
      ]
    },
    {
      "cell_type": "code",
      "metadata": {
        "id": "gdbJDzqtGvMK"
      },
      "source": [
        ""
      ],
      "execution_count": null,
      "outputs": []
    }
  ]
}